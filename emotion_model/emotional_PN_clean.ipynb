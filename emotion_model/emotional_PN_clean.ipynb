{
 "cells": [
  {
   "cell_type": "code",
   "execution_count": 1,
   "metadata": {
    "collapsed": true
   },
   "outputs": [],
   "source": [
    "from nltk import NaiveBayesClassifier as nbc\n",
    "from pythainlp.tokenize import word_tokenize\n",
    "import codecs\n",
    "from itertools import chain\n",
    "\n",
    "# pos.txt\n",
    "with codecs.open('pos.txt', 'r', \"utf-8\") as f:\n",
    "  lines = f.readlines()\n",
    "listpos=[e.strip() for e in lines]\n",
    "del lines\n",
    "f.close() # close file\n",
    "\n",
    "# neg.txt\n",
    "with codecs.open('neg.txt', 'r', \"utf-8\") as f:\n",
    "  lines = f.readlines()\n",
    "listneg=[e.strip() for e in lines]\n",
    "del lines\n",
    "f.close() # close file\n",
    "\n",
    "#train model\n",
    "pos1=['pos']*len(listpos)\n",
    "neg1=['neg']*len(listneg)\n",
    "training_data = list(zip(listpos,pos1)) + list(zip(listneg,neg1))\n",
    "\n",
    "#cut to the word\n",
    "vocabulary = set(chain(*[word_tokenize(i[0].lower()) for i in training_data]))\n",
    "feature_set = [({i:(i in word_tokenize(sentence.lower())) for i in vocabulary},tag) for sentence, tag in training_data]\n",
    "\n",
    "classifier = nbc.train(feature_set)"
   ]
  },
  {
   "cell_type": "code",
   "execution_count": null,
   "metadata": {},
   "outputs": [],
   "source": [
    " while True:\n",
    "\ttest_sentence = input('\\nข้อความ : ')\n",
    "\tfeaturized_test_sentence =  {i:(i in word_tokenize(test_sentence.lower())) for i in vocabulary}\n",
    "\tprint(\"test_sent:\",test_sentence)\n",
    "\tprint(\"tag:\",classifier.classify(featurized_test_sentence)) # ใช้โมเดลที่ train ประมวลผล"
   ]
  },
  {
   "cell_type": "code",
   "execution_count": null,
   "metadata": {
    "collapsed": true
   },
   "outputs": [],
   "source": []
  }
 ],
 "metadata": {
  "kernelspec": {
   "display_name": "Python 3",
   "language": "python",
   "name": "python3"
  },
  "language_info": {
   "codemirror_mode": {
    "name": "ipython",
    "version": 3
   },
   "file_extension": ".py",
   "mimetype": "text/x-python",
   "name": "python",
   "nbconvert_exporter": "python",
   "pygments_lexer": "ipython3",
   "version": "3.6.3"
  }
 },
 "nbformat": 4,
 "nbformat_minor": 2
}
